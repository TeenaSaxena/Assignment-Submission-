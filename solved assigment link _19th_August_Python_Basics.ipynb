{
 "cells": [
  {
   "cell_type": "markdown",
   "id": "5c5b77a1-ab8d-41c2-a7de-2188b9bcc268",
   "metadata": {},
   "source": [
    "# Topic : Python BASIC Variables Assignment Solved"
   ]
  },
  {
   "cell_type": "markdown",
   "id": "f7acbda8-beec-40ad-838d-62ae3ca9186e",
   "metadata": {},
   "source": [
    "ANSWER : 1"
   ]
  },
  {
   "cell_type": "code",
   "execution_count": 12,
   "id": "8c516278-18d8-4247-8a25-07ebd315cc37",
   "metadata": {},
   "outputs": [],
   "source": [
    "# SWAP VARIABLES"
   ]
  },
  {
   "cell_type": "code",
   "execution_count": 13,
   "id": "3278df35-2d74-48e0-b0e2-800716eac37c",
   "metadata": {},
   "outputs": [
    {
     "name": "stdout",
     "output_type": "stream",
     "text": [
      "initial\n",
      "9 2\n",
      "swap\n",
      "2 9\n"
     ]
    }
   ],
   "source": [
    "X = 9\n",
    "Y = 2\n",
    "print('initial')\n",
    "print(X, Y)\n",
    "\n",
    "#AFTER SWAP\n",
    "X, Y = Y, X\n",
    "print('swap')\n",
    "print(X, Y)\n",
    "\n",
    "#we can also use other methods to swap the values of a variable like addition , subtraction"
   ]
  },
  {
   "cell_type": "markdown",
   "id": "8554a0f7-1600-4c9a-9618-0cc70ead125f",
   "metadata": {},
   "source": [
    "ANSWER : 2"
   ]
  },
  {
   "cell_type": "code",
   "execution_count": 20,
   "id": "849f83a9-2a6e-4b43-b6a3-beccb65d188a",
   "metadata": {},
   "outputs": [],
   "source": [
    "# Program to calculate area of Rectangle"
   ]
  },
  {
   "cell_type": "code",
   "execution_count": 26,
   "id": "5f439437-8f8d-49d9-a577-f93439fd336d",
   "metadata": {},
   "outputs": [
    {
     "name": "stdin",
     "output_type": "stream",
     "text": [
      "enter length of rectangle 8\n",
      "enter width of rectangle 5\n"
     ]
    },
    {
     "name": "stdout",
     "output_type": "stream",
     "text": [
      "area of arectangle 40\n"
     ]
    }
   ],
   "source": [
    "length = int(input(\"enter length of rectangle\"))\n",
    "Width = int(input(\"enter width of rectangle\"))\n",
    "Area = length * Width\n",
    "print(\"area of arectangle\" , Area)"
   ]
  },
  {
   "cell_type": "markdown",
   "id": "160d1f58-3f1b-4b53-b261-9a987c39431b",
   "metadata": {},
   "source": [
    "ANSWER : 3"
   ]
  },
  {
   "cell_type": "code",
   "execution_count": 27,
   "id": "259426c8-1d32-43d3-90c8-b8a2da5dbf89",
   "metadata": {},
   "outputs": [],
   "source": [
    "# Program to convert temperature into Fahrenheit"
   ]
  },
  {
   "cell_type": "code",
   "execution_count": 29,
   "id": "22c7e68d-4293-4b66-ab10-4f72e0f48a3d",
   "metadata": {},
   "outputs": [
    {
     "name": "stdin",
     "output_type": "stream",
     "text": [
      "enter Celsius temp. 32\n"
     ]
    },
    {
     "name": "stdout",
     "output_type": "stream",
     "text": [
      "Fahrenheit 89.6\n"
     ]
    }
   ],
   "source": [
    "Celsius = int(input(\"enter Celsius temp.\"))\n",
    "Conversion = (1.8 * Celsius) + 32\n",
    "print(\"Fahrenheit\" , Conversion);"
   ]
  },
  {
   "cell_type": "markdown",
   "id": "090fedab-7531-4c82-abc8-76496e74fe95",
   "metadata": {},
   "source": [
    "# Topic : String Based Questions Solved"
   ]
  },
  {
   "cell_type": "markdown",
   "id": "5ab86d84-bfca-4db0-abe1-1500288e37a4",
   "metadata": {},
   "source": [
    "ANSWER 1 :"
   ]
  },
  {
   "cell_type": "code",
   "execution_count": 30,
   "id": "79933d42-e247-4abf-b6fd-dbca0d0fe2aa",
   "metadata": {},
   "outputs": [],
   "source": [
    "# Program prints length of string"
   ]
  },
  {
   "cell_type": "code",
   "execution_count": 1,
   "id": "e72b035c-0d52-4a84-b0f8-b3b1f0d9c4a5",
   "metadata": {},
   "outputs": [
    {
     "name": "stdin",
     "output_type": "stream",
     "text": [
      "Type your Text i miss u my bubu\n"
     ]
    },
    {
     "name": "stdout",
     "output_type": "stream",
     "text": [
      "length of text : 16\n"
     ]
    }
   ],
   "source": [
    "W = str(input(\"Type your Text\"))\n",
    "R = len(W)\n",
    "print(\"length of text :\", R);"
   ]
  },
  {
   "cell_type": "markdown",
   "id": "07edf4ed-4f0c-4515-b8c7-6399dc18d865",
   "metadata": {},
   "source": [
    "ANSWER 2 :"
   ]
  },
  {
   "cell_type": "code",
   "execution_count": 2,
   "id": "6cfa110b-1063-4a4a-a501-72fb1a0766e5",
   "metadata": {},
   "outputs": [],
   "source": [
    "# Program that counts no. of vowels in a string"
   ]
  },
  {
   "cell_type": "code",
   "execution_count": 10,
   "id": "4168f9c0-0743-49dc-a2f5-1069b7cecc4c",
   "metadata": {},
   "outputs": [
    {
     "name": "stdin",
     "output_type": "stream",
     "text": [
      "write someting i there i m teena saxena , pursing my Data science course with pwskills\n"
     ]
    },
    {
     "name": "stdout",
     "output_type": "stream",
     "text": [
      "Number of vowels in the sentence: 22\n"
     ]
    }
   ],
   "source": [
    "A = str(input(\"write someting\"))\n",
    "B = \"AEIOUaeiou\"\n",
    "count = 0\n",
    "\n",
    "for i in A:\n",
    "    if i in B:\n",
    "        count += 1\n",
    "\n",
    "print(\"Number of vowels in the sentence:\", count)"
   ]
  },
  {
   "cell_type": "markdown",
   "id": "1183b73f-69dc-40ab-b0e1-727f7906fd82",
   "metadata": {},
   "source": [
    "ANSWER 3 :"
   ]
  },
  {
   "cell_type": "code",
   "execution_count": null,
   "id": "3fc24f72-3b52-47ca-9820-2409174090ac",
   "metadata": {},
   "outputs": [],
   "source": [
    "# Program to reverse the order of characters"
   ]
  },
  {
   "cell_type": "code",
   "execution_count": 13,
   "id": "c3730969-c9a2-49a4-b82c-6dfe53aa1f0d",
   "metadata": {},
   "outputs": [
    {
     "name": "stdin",
     "output_type": "stream",
     "text": [
      "Type your Text:  TEENA\n"
     ]
    },
    {
     "name": "stdout",
     "output_type": "stream",
     "text": [
      "Reversed Text: ANEET\n"
     ]
    }
   ],
   "source": [
    "T = input(\"Type your Text: \")\n",
    "R = T[::-1]\n",
    "print(\"Reversed Text:\", R)"
   ]
  },
  {
   "cell_type": "markdown",
   "id": "fcba7ad1-8b5b-44d1-8795-4b7deb6eb0f1",
   "metadata": {},
   "source": [
    "ANSWER 4 :"
   ]
  },
  {
   "cell_type": "code",
   "execution_count": 19,
   "id": "c9d82895-f34c-45c2-80e2-671aab4cbeee",
   "metadata": {},
   "outputs": [],
   "source": [
    "# Program to check the Palindrome"
   ]
  },
  {
   "cell_type": "code",
   "execution_count": 24,
   "id": "a616d70f-9645-44ab-8b96-d7b116ffeae0",
   "metadata": {},
   "outputs": [
    {
     "name": "stdin",
     "output_type": "stream",
     "text": [
      "Write your sentence kanak\n"
     ]
    },
    {
     "name": "stdout",
     "output_type": "stream",
     "text": [
      "The string is a palindrome.\n"
     ]
    }
   ],
   "source": [
    "initial_text = input(\"Write your sentence\")\n",
    "\n",
    "# Remove spaces and convert to lowercase\n",
    "Process_text = initial_text.replace(\" \", \"\").lower()\n",
    "\n",
    "# Check if the cleaned string is equal to its reverse\n",
    "if Process_text == Process_text[::-1]:\n",
    "    print(\"The string is a palindrome.\")\n",
    "else:\n",
    "    print(\"The string is not a palindrome.\")"
   ]
  },
  {
   "cell_type": "markdown",
   "id": "a950ea61-101f-4321-88ea-7dfab02d2e60",
   "metadata": {},
   "source": [
    "ANSWER 5 :"
   ]
  },
  {
   "cell_type": "code",
   "execution_count": null,
   "id": "e20a8a1c-7305-4571-92fb-c2f6fa6e56cc",
   "metadata": {},
   "outputs": [],
   "source": [
    "# Program that remove spaces from text or sentences"
   ]
  },
  {
   "cell_type": "code",
   "execution_count": 26,
   "id": "c1ef6cdb-7feb-4fc8-8de7-51ac2c838b61",
   "metadata": {},
   "outputs": [
    {
     "name": "stdin",
     "output_type": "stream",
     "text": [
      "Give your text  its good to being with team pw skills \n"
     ]
    },
    {
     "name": "stdout",
     "output_type": "stream",
     "text": [
      "updated string without spaces: itsgoodtobeingwithteampwskills\n"
     ]
    }
   ],
   "source": [
    "initial_P = input(\"Give your text \")\n",
    "\n",
    "# Remove spaces from the string\n",
    "update_P  = initial_P.replace(\" \", \"\")\n",
    "\n",
    "print(\"updated string without spaces:\", update_P)"
   ]
  },
  {
   "cell_type": "code",
   "execution_count": null,
   "id": "024c5063-43f3-417d-b9e8-9c050ba93740",
   "metadata": {},
   "outputs": [],
   "source": []
  }
 ],
 "metadata": {
  "kernelspec": {
   "display_name": "Python 3 (ipykernel)",
   "language": "python",
   "name": "python3"
  },
  "language_info": {
   "codemirror_mode": {
    "name": "ipython",
    "version": 3
   },
   "file_extension": ".py",
   "mimetype": "text/x-python",
   "name": "python",
   "nbconvert_exporter": "python",
   "pygments_lexer": "ipython3",
   "version": "3.10.8"
  }
 },
 "nbformat": 4,
 "nbformat_minor": 5
}
